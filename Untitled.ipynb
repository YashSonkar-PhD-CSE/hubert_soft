{
 "cells": [
  {
   "cell_type": "code",
   "execution_count": 1,
   "id": "1350f00d-5ed6-4218-8434-cfd715b4881d",
   "metadata": {},
   "outputs": [],
   "source": [
    "from hubconf import hubert"
   ]
  },
  {
   "cell_type": "code",
   "execution_count": 2,
   "id": "d54c757a-f990-4a0a-80e7-adb54f40bdfe",
   "metadata": {},
   "outputs": [
    {
     "data": {
      "text/plain": [
       "Hubert(\n",
       "  (feature_extractor): FeatureExtractor(\n",
       "    (conv0): Conv1d(1, 512, kernel_size=(10,), stride=(5,), bias=False)\n",
       "    (norm0): GroupNorm(512, 512, eps=1e-05, affine=True)\n",
       "    (conv1): Conv1d(512, 512, kernel_size=(3,), stride=(2,), bias=False)\n",
       "    (conv2): Conv1d(512, 512, kernel_size=(3,), stride=(2,), bias=False)\n",
       "    (conv3): Conv1d(512, 512, kernel_size=(3,), stride=(2,), bias=False)\n",
       "    (conv4): Conv1d(512, 512, kernel_size=(3,), stride=(2,), bias=False)\n",
       "    (conv5): Conv1d(512, 512, kernel_size=(2,), stride=(2,), bias=False)\n",
       "    (conv6): Conv1d(512, 512, kernel_size=(2,), stride=(2,), bias=False)\n",
       "  )\n",
       "  (feature_projection): FeatureProjection(\n",
       "    (norm): LayerNorm((512,), eps=1e-05, elementwise_affine=True)\n",
       "    (projection): Linear(in_features=512, out_features=768, bias=True)\n",
       "    (dropout): Dropout(p=0.1, inplace=False)\n",
       "  )\n",
       "  (positional_embedding): PositionalConvEmbedding(\n",
       "    (conv): ParametrizedConv1d(\n",
       "      768, 768, kernel_size=(128,), stride=(1,), padding=(64,), groups=16\n",
       "      (parametrizations): ModuleDict(\n",
       "        (weight): ParametrizationList(\n",
       "          (0): _WeightNorm()\n",
       "        )\n",
       "      )\n",
       "    )\n",
       "  )\n",
       "  (norm): LayerNorm((768,), eps=1e-05, elementwise_affine=True)\n",
       "  (dropout): Dropout(p=0.1, inplace=False)\n",
       "  (encoder): TransformerEncoder(\n",
       "    (layers): ModuleList(\n",
       "      (0-11): 12 x TransformerEncoderLayer(\n",
       "        (self_attn): MultiheadAttention(\n",
       "          (out_proj): NonDynamicallyQuantizableLinear(in_features=768, out_features=768, bias=True)\n",
       "        )\n",
       "        (linear1): Linear(in_features=768, out_features=3072, bias=True)\n",
       "        (dropout): Dropout(p=0.1, inplace=False)\n",
       "        (linear2): Linear(in_features=3072, out_features=768, bias=True)\n",
       "        (norm1): LayerNorm((768,), eps=1e-05, elementwise_affine=True)\n",
       "        (norm2): LayerNorm((768,), eps=1e-05, elementwise_affine=True)\n",
       "        (dropout1): Dropout(p=0.1, inplace=False)\n",
       "        (dropout2): Dropout(p=0.1, inplace=False)\n",
       "      )\n",
       "    )\n",
       "  )\n",
       "  (proj): Linear(in_features=768, out_features=256, bias=True)\n",
       "  (label_embedding): Embedding(504, 256)\n",
       ")"
      ]
     },
     "execution_count": 2,
     "metadata": {},
     "output_type": "execute_result"
    }
   ],
   "source": [
    "hubert()"
   ]
  },
  {
   "cell_type": "code",
   "execution_count": null,
   "id": "ae32f397-9476-4a46-b3eb-7898ff73c799",
   "metadata": {},
   "outputs": [],
   "source": []
  }
 ],
 "metadata": {
  "kernelspec": {
   "display_name": "Python 3 (ipykernel)",
   "language": "python",
   "name": "python3"
  },
  "language_info": {
   "codemirror_mode": {
    "name": "ipython",
    "version": 3
   },
   "file_extension": ".py",
   "mimetype": "text/x-python",
   "name": "python",
   "nbconvert_exporter": "python",
   "pygments_lexer": "ipython3",
   "version": "3.12.2"
  }
 },
 "nbformat": 4,
 "nbformat_minor": 5
}
